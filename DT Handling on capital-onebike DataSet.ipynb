{
 "cells": [
  {
   "cell_type": "markdown",
   "id": "28d3273f",
   "metadata": {},
   "source": [
    "# Datetime Handling on capital-onebike DataSet"
   ]
  },
  {
   "cell_type": "markdown",
   "id": "8ede9026",
   "metadata": {},
   "source": [
    "### Import necessary module"
   ]
  },
  {
   "cell_type": "code",
   "execution_count": 5,
   "id": "9ae69db5",
   "metadata": {},
   "outputs": [],
   "source": [
    "import pandas as pd\n",
    "import datetime as dt"
   ]
  },
  {
   "cell_type": "markdown",
   "id": "b1e0860c",
   "metadata": {},
   "source": [
    "### Import DataSet and loading datetime with parse_dates"
   ]
  },
  {
   "cell_type": "code",
   "execution_count": 6,
   "id": "ea6d2329",
   "metadata": {},
   "outputs": [],
   "source": [
    "rides = pd.read_csv(\"capital-onebike.csv\", parse_dates = [\"Start date\", \"End date\"])"
   ]
  },
  {
   "cell_type": "code",
   "execution_count": 8,
   "id": "a075d361",
   "metadata": {},
   "outputs": [
    {
     "data": {
      "text/html": [
       "<div>\n",
       "<style scoped>\n",
       "    .dataframe tbody tr th:only-of-type {\n",
       "        vertical-align: middle;\n",
       "    }\n",
       "\n",
       "    .dataframe tbody tr th {\n",
       "        vertical-align: top;\n",
       "    }\n",
       "\n",
       "    .dataframe thead th {\n",
       "        text-align: right;\n",
       "    }\n",
       "</style>\n",
       "<table border=\"1\" class=\"dataframe\">\n",
       "  <thead>\n",
       "    <tr style=\"text-align: right;\">\n",
       "      <th></th>\n",
       "      <th>Start date</th>\n",
       "      <th>End date</th>\n",
       "      <th>Start station number</th>\n",
       "      <th>Start station</th>\n",
       "      <th>End station number</th>\n",
       "      <th>End station</th>\n",
       "      <th>Bike number</th>\n",
       "      <th>Member type</th>\n",
       "    </tr>\n",
       "  </thead>\n",
       "  <tbody>\n",
       "    <tr>\n",
       "      <th>0</th>\n",
       "      <td>2017-01-10 15:23:00</td>\n",
       "      <td>2017-01-10 15:26:00</td>\n",
       "      <td>31038</td>\n",
       "      <td>Glebe Rd &amp; 11th St N</td>\n",
       "      <td>31036</td>\n",
       "      <td>George Mason Dr &amp; Wilson Blvd</td>\n",
       "      <td>W20529</td>\n",
       "      <td>Member</td>\n",
       "    </tr>\n",
       "    <tr>\n",
       "      <th>1</th>\n",
       "      <td>2017-01-10 15:42:00</td>\n",
       "      <td>2017-01-10 17:49:00</td>\n",
       "      <td>31036</td>\n",
       "      <td>George Mason Dr &amp; Wilson Blvd</td>\n",
       "      <td>31036</td>\n",
       "      <td>George Mason Dr &amp; Wilson Blvd</td>\n",
       "      <td>W20529</td>\n",
       "      <td>Casual</td>\n",
       "    </tr>\n",
       "    <tr>\n",
       "      <th>2</th>\n",
       "      <td>2017-02-10 06:37:00</td>\n",
       "      <td>2017-02-10 06:42:00</td>\n",
       "      <td>31036</td>\n",
       "      <td>George Mason Dr &amp; Wilson Blvd</td>\n",
       "      <td>31037</td>\n",
       "      <td>Ballston Metro / N Stuart &amp; 9th St N</td>\n",
       "      <td>W20529</td>\n",
       "      <td>Member</td>\n",
       "    </tr>\n",
       "    <tr>\n",
       "      <th>3</th>\n",
       "      <td>2017-02-10 08:56:00</td>\n",
       "      <td>2017-02-10 09:18:00</td>\n",
       "      <td>31037</td>\n",
       "      <td>Ballston Metro / N Stuart &amp; 9th St N</td>\n",
       "      <td>31295</td>\n",
       "      <td>Potomac &amp; M St NW</td>\n",
       "      <td>W20529</td>\n",
       "      <td>Member</td>\n",
       "    </tr>\n",
       "    <tr>\n",
       "      <th>4</th>\n",
       "      <td>2017-02-10 18:23:00</td>\n",
       "      <td>2017-02-10 18:45:00</td>\n",
       "      <td>31295</td>\n",
       "      <td>Potomac &amp; M St NW</td>\n",
       "      <td>31230</td>\n",
       "      <td>Metro Center / 12th &amp; G St NW</td>\n",
       "      <td>W20529</td>\n",
       "      <td>Member</td>\n",
       "    </tr>\n",
       "    <tr>\n",
       "      <th>...</th>\n",
       "      <td>...</td>\n",
       "      <td>...</td>\n",
       "      <td>...</td>\n",
       "      <td>...</td>\n",
       "      <td>...</td>\n",
       "      <td>...</td>\n",
       "      <td>...</td>\n",
       "      <td>...</td>\n",
       "    </tr>\n",
       "    <tr>\n",
       "      <th>285</th>\n",
       "      <td>2017-12-29 14:32:00</td>\n",
       "      <td>2017-12-29 14:43:00</td>\n",
       "      <td>31242</td>\n",
       "      <td>18th St &amp; Pennsylvania Ave NW</td>\n",
       "      <td>31265</td>\n",
       "      <td>5th St &amp; Massachusetts Ave NW</td>\n",
       "      <td>W20529</td>\n",
       "      <td>Member</td>\n",
       "    </tr>\n",
       "    <tr>\n",
       "      <th>286</th>\n",
       "      <td>2017-12-29 15:08:00</td>\n",
       "      <td>2017-12-29 15:18:00</td>\n",
       "      <td>31265</td>\n",
       "      <td>5th St &amp; Massachusetts Ave NW</td>\n",
       "      <td>31613</td>\n",
       "      <td>Eastern Market Metro / Pennsylvania Ave &amp; 7th ...</td>\n",
       "      <td>W20529</td>\n",
       "      <td>Casual</td>\n",
       "    </tr>\n",
       "    <tr>\n",
       "      <th>287</th>\n",
       "      <td>2017-12-29 20:33:00</td>\n",
       "      <td>2017-12-29 20:38:00</td>\n",
       "      <td>31613</td>\n",
       "      <td>Eastern Market Metro / Pennsylvania Ave &amp; 7th ...</td>\n",
       "      <td>31618</td>\n",
       "      <td>4th &amp; East Capitol St NE</td>\n",
       "      <td>W20529</td>\n",
       "      <td>Member</td>\n",
       "    </tr>\n",
       "    <tr>\n",
       "      <th>288</th>\n",
       "      <td>2017-12-30 13:51:00</td>\n",
       "      <td>2017-12-30 13:54:00</td>\n",
       "      <td>31618</td>\n",
       "      <td>4th &amp; East Capitol St NE</td>\n",
       "      <td>31610</td>\n",
       "      <td>Eastern Market / 7th &amp; North Carolina Ave SE</td>\n",
       "      <td>W20529</td>\n",
       "      <td>Member</td>\n",
       "    </tr>\n",
       "    <tr>\n",
       "      <th>289</th>\n",
       "      <td>2017-12-30 15:09:00</td>\n",
       "      <td>2017-12-30 15:19:00</td>\n",
       "      <td>31610</td>\n",
       "      <td>Eastern Market / 7th &amp; North Carolina Ave SE</td>\n",
       "      <td>31272</td>\n",
       "      <td>Washington &amp; Independence Ave SW/HHS</td>\n",
       "      <td>W20529</td>\n",
       "      <td>Member</td>\n",
       "    </tr>\n",
       "  </tbody>\n",
       "</table>\n",
       "<p>290 rows × 8 columns</p>\n",
       "</div>"
      ],
      "text/plain": [
       "             Start date            End date  Start station number  \\\n",
       "0   2017-01-10 15:23:00 2017-01-10 15:26:00                 31038   \n",
       "1   2017-01-10 15:42:00 2017-01-10 17:49:00                 31036   \n",
       "2   2017-02-10 06:37:00 2017-02-10 06:42:00                 31036   \n",
       "3   2017-02-10 08:56:00 2017-02-10 09:18:00                 31037   \n",
       "4   2017-02-10 18:23:00 2017-02-10 18:45:00                 31295   \n",
       "..                  ...                 ...                   ...   \n",
       "285 2017-12-29 14:32:00 2017-12-29 14:43:00                 31242   \n",
       "286 2017-12-29 15:08:00 2017-12-29 15:18:00                 31265   \n",
       "287 2017-12-29 20:33:00 2017-12-29 20:38:00                 31613   \n",
       "288 2017-12-30 13:51:00 2017-12-30 13:54:00                 31618   \n",
       "289 2017-12-30 15:09:00 2017-12-30 15:19:00                 31610   \n",
       "\n",
       "                                         Start station  End station number  \\\n",
       "0                                 Glebe Rd & 11th St N               31036   \n",
       "1                        George Mason Dr & Wilson Blvd               31036   \n",
       "2                        George Mason Dr & Wilson Blvd               31037   \n",
       "3                 Ballston Metro / N Stuart & 9th St N               31295   \n",
       "4                                    Potomac & M St NW               31230   \n",
       "..                                                 ...                 ...   \n",
       "285                      18th St & Pennsylvania Ave NW               31265   \n",
       "286                      5th St & Massachusetts Ave NW               31613   \n",
       "287  Eastern Market Metro / Pennsylvania Ave & 7th ...               31618   \n",
       "288                           4th & East Capitol St NE               31610   \n",
       "289       Eastern Market / 7th & North Carolina Ave SE               31272   \n",
       "\n",
       "                                           End station Bike number Member type  \n",
       "0                        George Mason Dr & Wilson Blvd      W20529      Member  \n",
       "1                        George Mason Dr & Wilson Blvd      W20529      Casual  \n",
       "2                 Ballston Metro / N Stuart & 9th St N      W20529      Member  \n",
       "3                                    Potomac & M St NW      W20529      Member  \n",
       "4                        Metro Center / 12th & G St NW      W20529      Member  \n",
       "..                                                 ...         ...         ...  \n",
       "285                      5th St & Massachusetts Ave NW      W20529      Member  \n",
       "286  Eastern Market Metro / Pennsylvania Ave & 7th ...      W20529      Casual  \n",
       "287                           4th & East Capitol St NE      W20529      Member  \n",
       "288       Eastern Market / 7th & North Carolina Ave SE      W20529      Member  \n",
       "289               Washington & Independence Ave SW/HHS      W20529      Member  \n",
       "\n",
       "[290 rows x 8 columns]"
      ]
     },
     "execution_count": 8,
     "metadata": {},
     "output_type": "execute_result"
    }
   ],
   "source": [
    "rides"
   ]
  },
  {
   "cell_type": "code",
   "execution_count": 9,
   "id": "68c9bc91",
   "metadata": {},
   "outputs": [
    {
     "data": {
      "text/plain": [
       "Timestamp('2017-02-10 06:37:00')"
      ]
     },
     "execution_count": 9,
     "metadata": {},
     "output_type": "execute_result"
    }
   ],
   "source": [
    "rides[\"Start date\"].iloc[2]"
   ]
  },
  {
   "cell_type": "code",
   "execution_count": 10,
   "id": "f0f1b00e",
   "metadata": {},
   "outputs": [
    {
     "name": "stdout",
     "output_type": "stream",
     "text": [
      "<class 'pandas.core.frame.DataFrame'>\n",
      "RangeIndex: 290 entries, 0 to 289\n",
      "Data columns (total 8 columns):\n",
      " #   Column                Non-Null Count  Dtype         \n",
      "---  ------                --------------  -----         \n",
      " 0   Start date            290 non-null    datetime64[ns]\n",
      " 1   End date              290 non-null    datetime64[ns]\n",
      " 2   Start station number  290 non-null    int64         \n",
      " 3   Start station         290 non-null    object        \n",
      " 4   End station number    290 non-null    int64         \n",
      " 5   End station           290 non-null    object        \n",
      " 6   Bike number           290 non-null    object        \n",
      " 7   Member type           290 non-null    object        \n",
      "dtypes: datetime64[ns](2), int64(2), object(4)\n",
      "memory usage: 18.2+ KB\n"
     ]
    }
   ],
   "source": [
    "rides.info()"
   ]
  },
  {
   "cell_type": "markdown",
   "id": "cb48d32b",
   "metadata": {},
   "source": [
    "### Create a duration column"
   ]
  },
  {
   "cell_type": "code",
   "execution_count": 11,
   "id": "998cb249",
   "metadata": {},
   "outputs": [],
   "source": [
    "rides[\"Duration\"] = rides[\"End date\"] - rides[\"Start date\"]"
   ]
  },
  {
   "cell_type": "code",
   "execution_count": 17,
   "id": "c5dc6b17",
   "metadata": {},
   "outputs": [
    {
     "data": {
      "text/html": [
       "<div>\n",
       "<style scoped>\n",
       "    .dataframe tbody tr th:only-of-type {\n",
       "        vertical-align: middle;\n",
       "    }\n",
       "\n",
       "    .dataframe tbody tr th {\n",
       "        vertical-align: top;\n",
       "    }\n",
       "\n",
       "    .dataframe thead th {\n",
       "        text-align: right;\n",
       "    }\n",
       "</style>\n",
       "<table border=\"1\" class=\"dataframe\">\n",
       "  <thead>\n",
       "    <tr style=\"text-align: right;\">\n",
       "      <th></th>\n",
       "      <th>Duration</th>\n",
       "    </tr>\n",
       "  </thead>\n",
       "  <tbody>\n",
       "    <tr>\n",
       "      <th>0</th>\n",
       "      <td>0 days 00:03:00</td>\n",
       "    </tr>\n",
       "    <tr>\n",
       "      <th>1</th>\n",
       "      <td>0 days 02:07:00</td>\n",
       "    </tr>\n",
       "    <tr>\n",
       "      <th>2</th>\n",
       "      <td>0 days 00:05:00</td>\n",
       "    </tr>\n",
       "    <tr>\n",
       "      <th>3</th>\n",
       "      <td>0 days 00:22:00</td>\n",
       "    </tr>\n",
       "    <tr>\n",
       "      <th>4</th>\n",
       "      <td>0 days 00:22:00</td>\n",
       "    </tr>\n",
       "    <tr>\n",
       "      <th>...</th>\n",
       "      <td>...</td>\n",
       "    </tr>\n",
       "    <tr>\n",
       "      <th>285</th>\n",
       "      <td>0 days 00:11:00</td>\n",
       "    </tr>\n",
       "    <tr>\n",
       "      <th>286</th>\n",
       "      <td>0 days 00:10:00</td>\n",
       "    </tr>\n",
       "    <tr>\n",
       "      <th>287</th>\n",
       "      <td>0 days 00:05:00</td>\n",
       "    </tr>\n",
       "    <tr>\n",
       "      <th>288</th>\n",
       "      <td>0 days 00:03:00</td>\n",
       "    </tr>\n",
       "    <tr>\n",
       "      <th>289</th>\n",
       "      <td>0 days 00:10:00</td>\n",
       "    </tr>\n",
       "  </tbody>\n",
       "</table>\n",
       "<p>290 rows × 1 columns</p>\n",
       "</div>"
      ],
      "text/plain": [
       "           Duration\n",
       "0   0 days 00:03:00\n",
       "1   0 days 02:07:00\n",
       "2   0 days 00:05:00\n",
       "3   0 days 00:22:00\n",
       "4   0 days 00:22:00\n",
       "..              ...\n",
       "285 0 days 00:11:00\n",
       "286 0 days 00:10:00\n",
       "287 0 days 00:05:00\n",
       "288 0 days 00:03:00\n",
       "289 0 days 00:10:00\n",
       "\n",
       "[290 rows x 1 columns]"
      ]
     },
     "execution_count": 17,
     "metadata": {},
     "output_type": "execute_result"
    }
   ],
   "source": [
    "rides[[\"Duration\"]]"
   ]
  },
  {
   "cell_type": "code",
   "execution_count": 18,
   "id": "35a5bba9",
   "metadata": {},
   "outputs": [
    {
     "data": {
      "text/plain": [
       "0       180.0\n",
       "1      7620.0\n",
       "2       300.0\n",
       "3      1320.0\n",
       "4      1320.0\n",
       "        ...  \n",
       "285     660.0\n",
       "286     600.0\n",
       "287     300.0\n",
       "288     180.0\n",
       "289     600.0\n",
       "Name: Duration, Length: 290, dtype: float64"
      ]
     },
     "execution_count": 18,
     "metadata": {},
     "output_type": "execute_result"
    }
   ],
   "source": [
    "rides[\"Duration\"].dt.total_seconds()"
   ]
  },
  {
   "cell_type": "markdown",
   "id": "ccaad2be",
   "metadata": {},
   "source": [
    "## Summarizing datetime data in Pandas"
   ]
  },
  {
   "cell_type": "code",
   "execution_count": 19,
   "id": "e8e7df6c",
   "metadata": {},
   "outputs": [
    {
     "data": {
      "text/plain": [
       "Timedelta('0 days 02:48:36.413793103')"
      ]
     },
     "execution_count": 19,
     "metadata": {},
     "output_type": "execute_result"
    }
   ],
   "source": [
    "#Average time out of the dock\n",
    "rides[\"Duration\"].mean()"
   ]
  },
  {
   "cell_type": "code",
   "execution_count": 20,
   "id": "ad32c6e8",
   "metadata": {},
   "outputs": [
    {
     "data": {
      "text/plain": [
       "Timedelta('33 days 22:56:00')"
      ]
     },
     "execution_count": 20,
     "metadata": {},
     "output_type": "execute_result"
    }
   ],
   "source": [
    "#Total time out of the dock\n",
    "rides[\"Duration\"].sum()"
   ]
  },
  {
   "cell_type": "code",
   "execution_count": 21,
   "id": "619480d0",
   "metadata": {},
   "outputs": [
    {
     "data": {
      "text/plain": [
       "0.37313797313797314"
      ]
     },
     "execution_count": 21,
     "metadata": {},
     "output_type": "execute_result"
    }
   ],
   "source": [
    "#Percent of the time out of the deck\n",
    "rides[\"Duration\"].sum() / dt.timedelta(days = 91)"
   ]
  },
  {
   "cell_type": "code",
   "execution_count": 24,
   "id": "63f6bbb8",
   "metadata": {},
   "outputs": [
    {
     "data": {
      "text/plain": [
       "Member    236\n",
       "Casual     54\n",
       "Name: Member type, dtype: int64"
      ]
     },
     "execution_count": 24,
     "metadata": {},
     "output_type": "execute_result"
    }
   ],
   "source": [
    "#Count how many time the bike started in each station\n",
    "rides[\"Member type\"].value_counts()"
   ]
  },
  {
   "cell_type": "code",
   "execution_count": 25,
   "id": "bea8a12a",
   "metadata": {},
   "outputs": [
    {
     "data": {
      "text/plain": [
       "Member    0.813793\n",
       "Casual    0.186207\n",
       "Name: Member type, dtype: float64"
      ]
     },
     "execution_count": 25,
     "metadata": {},
     "output_type": "execute_result"
    }
   ],
   "source": [
    "#Percent of rides by member\n",
    "rides[\"Member type\"].value_counts() / len(rides)"
   ]
  },
  {
   "cell_type": "code",
   "execution_count": 27,
   "id": "4f302b53",
   "metadata": {},
   "outputs": [],
   "source": [
    "#Add duration (in seconds) column\n",
    "rides[\"Duration in seconds\"] = rides[\"Duration\"].dt.total_seconds()"
   ]
  },
  {
   "cell_type": "code",
   "execution_count": 28,
   "id": "9696f450",
   "metadata": {},
   "outputs": [
    {
     "data": {
      "text/plain": [
       "Member type\n",
       "Casual     1990.000000\n",
       "Member    11975.847458\n",
       "Name: Duration in seconds, dtype: float64"
      ]
     },
     "execution_count": 28,
     "metadata": {},
     "output_type": "execute_result"
    }
   ],
   "source": [
    "#Average duration per member type\n",
    "rides.groupby(\"Member type\")[\"Duration in seconds\"].mean()"
   ]
  },
  {
   "cell_type": "code",
   "execution_count": 30,
   "id": "cc8d179b",
   "metadata": {},
   "outputs": [
    {
     "data": {
      "text/plain": [
       "Start date\n",
       "2017-01-31      1968.000000\n",
       "2017-02-28       670.000000\n",
       "2017-03-31      1123.333333\n",
       "2017-04-30      1065.000000\n",
       "2017-05-31       402.000000\n",
       "2017-06-30       907.826087\n",
       "2017-07-31       580.000000\n",
       "2017-08-31    163053.750000\n",
       "2017-09-30       680.000000\n",
       "2017-10-31      2663.529412\n",
       "2017-11-30       917.586207\n",
       "2017-12-31       675.600000\n",
       "Freq: M, Name: Duration in seconds, dtype: float64"
      ]
     },
     "execution_count": 30,
     "metadata": {},
     "output_type": "execute_result"
    }
   ],
   "source": [
    "#Average duration by month\n",
    "rides.resample(\"M\", on = \"Start date\")[\"Duration in seconds\"].mean()"
   ]
  },
  {
   "cell_type": "code",
   "execution_count": 31,
   "id": "3f065719",
   "metadata": {},
   "outputs": [
    {
     "data": {
      "text/plain": [
       "Member type\n",
       "Casual     54\n",
       "Member    236\n",
       "dtype: int64"
      ]
     },
     "execution_count": 31,
     "metadata": {},
     "output_type": "execute_result"
    }
   ],
   "source": [
    "#Size per group\n",
    "rides.groupby(\"Member type\").size()"
   ]
  },
  {
   "cell_type": "code",
   "execution_count": 32,
   "id": "f699e467",
   "metadata": {},
   "outputs": [
    {
     "data": {
      "text/html": [
       "<div>\n",
       "<style scoped>\n",
       "    .dataframe tbody tr th:only-of-type {\n",
       "        vertical-align: middle;\n",
       "    }\n",
       "\n",
       "    .dataframe tbody tr th {\n",
       "        vertical-align: top;\n",
       "    }\n",
       "\n",
       "    .dataframe thead th {\n",
       "        text-align: right;\n",
       "    }\n",
       "</style>\n",
       "<table border=\"1\" class=\"dataframe\">\n",
       "  <thead>\n",
       "    <tr style=\"text-align: right;\">\n",
       "      <th></th>\n",
       "      <th>Start date</th>\n",
       "      <th>End date</th>\n",
       "      <th>Start station number</th>\n",
       "      <th>Start station</th>\n",
       "      <th>End station number</th>\n",
       "      <th>End station</th>\n",
       "      <th>Bike number</th>\n",
       "      <th>Duration</th>\n",
       "      <th>Duration in seconds</th>\n",
       "    </tr>\n",
       "    <tr>\n",
       "      <th>Member type</th>\n",
       "      <th></th>\n",
       "      <th></th>\n",
       "      <th></th>\n",
       "      <th></th>\n",
       "      <th></th>\n",
       "      <th></th>\n",
       "      <th></th>\n",
       "      <th></th>\n",
       "      <th></th>\n",
       "    </tr>\n",
       "  </thead>\n",
       "  <tbody>\n",
       "    <tr>\n",
       "      <th>Casual</th>\n",
       "      <td>2017-01-10 15:42:00</td>\n",
       "      <td>2017-01-10 17:49:00</td>\n",
       "      <td>31036</td>\n",
       "      <td>George Mason Dr &amp; Wilson Blvd</td>\n",
       "      <td>31036</td>\n",
       "      <td>George Mason Dr &amp; Wilson Blvd</td>\n",
       "      <td>W20529</td>\n",
       "      <td>0 days 02:07:00</td>\n",
       "      <td>7620.0</td>\n",
       "    </tr>\n",
       "    <tr>\n",
       "      <th>Member</th>\n",
       "      <td>2017-01-10 15:23:00</td>\n",
       "      <td>2017-01-10 15:26:00</td>\n",
       "      <td>31038</td>\n",
       "      <td>Glebe Rd &amp; 11th St N</td>\n",
       "      <td>31036</td>\n",
       "      <td>George Mason Dr &amp; Wilson Blvd</td>\n",
       "      <td>W20529</td>\n",
       "      <td>0 days 00:03:00</td>\n",
       "      <td>180.0</td>\n",
       "    </tr>\n",
       "  </tbody>\n",
       "</table>\n",
       "</div>"
      ],
      "text/plain": [
       "                     Start date            End date  Start station number  \\\n",
       "Member type                                                                 \n",
       "Casual      2017-01-10 15:42:00 2017-01-10 17:49:00                 31036   \n",
       "Member      2017-01-10 15:23:00 2017-01-10 15:26:00                 31038   \n",
       "\n",
       "                             Start station  End station number  \\\n",
       "Member type                                                      \n",
       "Casual       George Mason Dr & Wilson Blvd               31036   \n",
       "Member                Glebe Rd & 11th St N               31036   \n",
       "\n",
       "                               End station Bike number        Duration  \\\n",
       "Member type                                                              \n",
       "Casual       George Mason Dr & Wilson Blvd      W20529 0 days 02:07:00   \n",
       "Member       George Mason Dr & Wilson Blvd      W20529 0 days 00:03:00   \n",
       "\n",
       "             Duration in seconds  \n",
       "Member type                       \n",
       "Casual                    7620.0  \n",
       "Member                     180.0  "
      ]
     },
     "execution_count": 32,
     "metadata": {},
     "output_type": "execute_result"
    }
   ],
   "source": [
    "#First ride per group\n",
    "rides.groupby(\"Member type\").first()"
   ]
  },
  {
   "cell_type": "code",
   "execution_count": 35,
   "id": "3e35b70d",
   "metadata": {},
   "outputs": [
    {
     "data": {
      "text/plain": [
       "<AxesSubplot:xlabel='Start date'>"
      ]
     },
     "execution_count": 35,
     "metadata": {},
     "output_type": "execute_result"
    },
    {
     "data": {
      "image/png": "[encoded data removed]",
      "text/plain": [
       "<Figure size 432x288 with 1 Axes>"
      ]
     },
     "metadata": {
      "needs_background": "light"
     },
     "output_type": "display_data"
    }
   ],
   "source": [
    "rides.resample(\"M\", on = \"Start date\")[\"Duration in seconds\"].mean().plot()"
   ]
  },
  {
   "cell_type": "code",
   "execution_count": 36,
   "id": "649fee34",
   "metadata": {},
   "outputs": [
    {
     "data": {
      "text/plain": [
       "<AxesSubplot:xlabel='Start date'>"
      ]
     },
     "execution_count": 36,
     "metadata": {},
     "output_type": "execute_result"
    },
    {
     "data": {
      "image/png": "[encoded data removed]",
      "text/plain": [
       "<Figure size 432x288 with 1 Axes>"
      ]
     },
     "metadata": {
      "needs_background": "light"
     },
     "output_type": "display_data"
    }
   ],
   "source": [
    "rides.resample(\"D\", on = \"Start date\")[\"Duration in seconds\"].mean().plot()"
   ]
  },
  {
   "cell_type": "markdown",
   "id": "01239df5",
   "metadata": {},
   "source": [
    "## Additional datetime methods in Pandas"
   ]
  },
  {
   "cell_type": "code",
   "execution_count": 38,
   "id": "7885c50b",
   "metadata": {},
   "outputs": [
    {
     "data": {
      "text/plain": [
       "0    2017\n",
       "1    2017\n",
       "2    2017\n",
       "3    2017\n",
       "4    2017\n",
       "Name: Start date, dtype: int64"
      ]
     },
     "execution_count": 38,
     "metadata": {},
     "output_type": "execute_result"
    }
   ],
   "source": [
    "#Year of first three rows\n",
    "rides[\"Start date\"].head().dt.year"
   ]
  },
  {
   "cell_type": "code",
   "execution_count": 39,
   "id": "5ec64dc2",
   "metadata": {},
   "outputs": [
    {
     "data": {
      "text/plain": [
       "0    Tuesday\n",
       "1    Tuesday\n",
       "2     Friday\n",
       "3     Friday\n",
       "4     Friday\n",
       "Name: Start date, dtype: object"
      ]
     },
     "execution_count": 39,
     "metadata": {},
     "output_type": "execute_result"
    }
   ],
   "source": [
    "#See weekdays for first three rides\n",
    "rides[\"Start date\"].head().dt.day_name()"
   ]
  },
  {
   "cell_type": "code",
   "execution_count": 41,
   "id": "f717e58b",
   "metadata": {},
   "outputs": [
    {
     "data": {
      "text/plain": [
       "0                   NaT\n",
       "1   2017-01-10 15:26:00\n",
       "2   2017-01-10 17:49:00\n",
       "3   2017-02-10 06:42:00\n",
       "4   2017-02-10 09:18:00\n",
       "Name: End date, dtype: datetime64[ns]"
      ]
     },
     "execution_count": 41,
     "metadata": {},
     "output_type": "execute_result"
    }
   ],
   "source": [
    "#Shift the indexes foreward one, padding with NaT\n",
    "rides[\"End date\"].shift(1).head()"
   ]
  },
  {
   "cell_type": "code",
   "execution_count": null,
   "id": "7eea5757",
   "metadata": {},
   "outputs": [],
   "source": []
  }
 ],
 "metadata": {
  "kernelspec": {
   "display_name": "Python 3",
   "language": "python",
   "name": "python3"
  },
  "language_info": {
   "codemirror_mode": {
    "name": "ipython",
    "version": 3
   },
   "file_extension": ".py",
   "mimetype": "text/x-python",
   "name": "python",
   "nbconvert_exporter": "python",
   "pygments_lexer": "ipython3",
   "version": "3.8.8"
  }
 },
 "nbformat": 4,
 "nbformat_minor": 5
}
